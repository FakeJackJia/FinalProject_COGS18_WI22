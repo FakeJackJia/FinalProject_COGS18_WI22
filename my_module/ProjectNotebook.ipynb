{
 "cells": [
  {
   "cell_type": "markdown",
   "metadata": {},
   "source": [
    "# Project Description"
   ]
  },
  {
   "cell_type": "raw",
   "metadata": {},
   "source": [
    "So, for my project, I chose to make a game that needs both skill and luckiness. Here are the illustration:\n",
    "#**\n",
    "***\n",
    "***\n",
    "As you can see, this game is constructed of * and #\n",
    "For this game, you need to fulfill all the spaces with all #\n",
    "In the game, you are asked to enter the row and column, you could only choose the postion that has '#'\n",
    "Then, the space around '#' will become '#' and itself will become *\n",
    "For instance:\n",
    "#*\n",
    "**\n",
    "will become\n",
    "*#\n",
    "#*\n",
    "So, in this game, you can only click on '#' and the goal is to make '#'\n",
    "all the space, and the last '#' you click would not become '*\n",
    "Last sentence would mean that:\n",
    "*#\n",
    "#* \n",
    "if you choose to enter the row 1 and column 2\n",
    "then it will become\n",
    "##\n",
    "##\n",
    "so it will not change to '*' if it is the last move\n",
    "\n",
    "The reason that I chose to make this game is because I was inspired by the Artificial Agents assignment. As we were asked to design several moving symbols on a map, I got to think why not make a game that fulfills the map; then, I came up with this idea. Moreover, I think everyone who plays this game would learn to think slowly as it is very easy to get stuck in my game (ha-ha). Nevermind, this is the same in learning python. We just need to learn step by step and then we could all achieve our goals. "
   ]
  },
  {
   "cell_type": "markdown",
   "metadata": {},
   "source": [
    "## Project Code\n",
    "\n",
    "If it makes sense for your project, you can have code and outputs here in the notebook as well."
   ]
  },
  {
   "cell_type": "code",
   "execution_count": 1,
   "metadata": {},
   "outputs": [],
   "source": [
    "# Just to make clear that I have put this notebook in the my_module file\n",
    "from functions import run"
   ]
  },
  {
   "cell_type": "code",
   "execution_count": 2,
   "metadata": {
    "scrolled": true
   },
   "outputs": [
    {
     "name": "stdout",
     "output_type": "stream",
     "text": [
      "Welcome to the game of wisdom and luckiness!!!!!!!!!!!!!!!!!!!!!!\n",
      "#**\n",
      "***\n",
      "***\n",
      "As you can see, this game is constructed of * and #\n",
      "For this game, you need to fulfill all the spaces with all #\n",
      "Here comes the Rule\n",
      "-----------------------------------------------------------------------\n",
      "For this game, by entering the row and column, you could only click '#'\n",
      "Then, the space around '#' will become '#' and itself will become *\n",
      "For instance:\n",
      "#*\n",
      "**\n",
      "will become\n",
      "*#\n",
      "#*\n",
      "So, in this game, you can only click on '#' and the goal is to make '#'\n",
      "all the space, and the last '#' you click would not become '*\n",
      "-----------------------------------------------------------------------\n",
      "SO, GAME START!\n",
      "---------------------------------------\n",
      "              Level 1                  \n",
      "              Level 2                  \n",
      "              Level 3                  \n",
      "             Customize                 \n",
      "---------------------------------------\n",
      "Enter the entire name you want to have or enter 'quit' to quit\n",
      ">Level 1\n",
      "#**\n",
      "***\n",
      "***\n",
      "Please enter a row\n",
      ">1\n",
      "Please enter a column\n",
      ">1\n",
      "*#*\n",
      "#**\n",
      "***\n",
      "Please enter a row\n",
      ">2\n",
      "Please enter a column\n",
      ">1\n",
      "##*\n",
      "*#*\n",
      "#**\n",
      "Please enter a row\n",
      ">2\n",
      "Please enter a column\n",
      ">2\n",
      "#**\n",
      "#*#\n",
      "##*\n",
      "Please enter a row\n",
      ">2\n",
      "Please enter a column\n",
      ">3\n",
      "#*#\n",
      "##*\n",
      "###\n",
      "Please enter a row\n",
      ">1\n",
      "Please enter a column\n",
      ">3\n",
      "Congratulation!!\n",
      "---------------------------------------\n",
      "              Level 1                  \n",
      "              Level 2                  \n",
      "              Level 3                  \n",
      "             Customize                 \n",
      "---------------------------------------\n",
      "Enter the entire name you want to have or enter 'quit' to quit\n",
      ">Customize\n",
      "How many nxn do you want to have\n",
      ">2\n",
      "How many '#' do you want to have\n",
      ">2\n",
      "*#\n",
      "**\n",
      "Please enter a row\n",
      ">1\n",
      "Please enter a column\n",
      ">2\n",
      "#*\n",
      "*#\n",
      "Please enter a row\n",
      ">1\n",
      "Please enter a column\n",
      ">1\n",
      "Congratulation!!\n",
      "---------------------------------------\n",
      "              Level 1                  \n",
      "              Level 2                  \n",
      "              Level 3                  \n",
      "             Customize                 \n",
      "---------------------------------------\n",
      "Enter the entire name you want to have or enter 'quit' to quit\n",
      ">hi\n",
      "---------------------------------------\n",
      "              Level 1                  \n",
      "              Level 2                  \n",
      "              Level 3                  \n",
      "             Customize                 \n",
      "---------------------------------------\n",
      "Enter the entire name you want to have or enter 'quit' to quit\n",
      ">quit\n",
      "Bye~~~~\n"
     ]
    }
   ],
   "source": [
    "# Do a bunch of things.Z\n",
    "run() "
   ]
  },
  {
   "cell_type": "code",
   "execution_count": 3,
   "metadata": {},
   "outputs": [
    {
     "name": "stdout",
     "output_type": "stream",
     "text": [
      "\u001b[1m============================= test session starts ==============================\u001b[0m\n",
      "platform linux -- Python 3.9.5, pytest-6.2.5, py-1.10.0, pluggy-1.0.0\n",
      "rootdir: /home/bojia/FinalProject_COGS18_WI22/my_module\n",
      "plugins: anyio-3.2.1\n",
      "collected 4 items                                                              \u001b[0m\n",
      "\n",
      "test_functions.py \u001b[32m.\u001b[0m\u001b[32m.\u001b[0m\u001b[32m.\u001b[0m\u001b[32m.\u001b[0m\u001b[32m                                                   [100%]\u001b[0m\n",
      "\n",
      "\u001b[32m============================== \u001b[32m\u001b[1m4 passed\u001b[0m\u001b[32m in 0.06s\u001b[0m\u001b[32m ===============================\u001b[0m\n"
     ]
    }
   ],
   "source": [
    "# test it out\n",
    "!pytest test_functions.py"
   ]
  },
  {
   "cell_type": "markdown",
   "metadata": {},
   "source": [
    "#### Extra Credit (*optional*)\n",
    "\n",
    "Replace all of this text with a brief explanation (~3 sentences) of: \n",
    "1. I have learnt several years of python in high school so I am pretty familiar with this programming language and the basic concept\n",
    "2. So, for my final project, I am kind of implementing some knowledge that is beyond the concept of this course. For instance, I have used recursion and two-dimenstional array in achieving my goal. I think the most crucial thing I learnt from my final project are comments and tests. To be honest, in the past, I was lazy to write these two aspects in my code; however, these two concepts really help me organize my code and let me to know which area to debug."
   ]
  }
 ],
 "metadata": {
  "kernelspec": {
   "display_name": "Python 3 (ipykernel)",
   "language": "python",
   "name": "python3"
  },
  "language_info": {
   "codemirror_mode": {
    "name": "ipython",
    "version": 3
   },
   "file_extension": ".py",
   "mimetype": "text/x-python",
   "name": "python",
   "nbconvert_exporter": "python",
   "pygments_lexer": "ipython3",
   "version": "3.9.5"
  }
 },
 "nbformat": 4,
 "nbformat_minor": 2
}
